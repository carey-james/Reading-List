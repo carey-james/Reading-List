{
 "cells": [
  {
   "cell_type": "code",
   "execution_count": null,
   "id": "855ec034",
   "metadata": {},
   "outputs": [],
   "source": [
    "import matplotlib.pyplot as plt\n",
    "import numpy as np\n",
    "import pandas as pd\n",
    "import seaborn as sns\n",
    "from datetime import datetime\n",
    "from calendar import month_abbr"
   ]
  },
  {
   "cell_type": "code",
   "execution_count": null,
   "id": "ff8b46f1",
   "metadata": {},
   "outputs": [],
   "source": [
    "# Import csvs of books for each year\n",
    "df2022 = pd.read_csv('../2022/books.csv', sep='|')\n",
    "df2023 = pd.read_csv('../2023/books.csv', sep='|')\n",
    "# Add year column\n",
    "df2022.insert(0,'Year',2022)\n",
    "df2023.insert(0,'Year',2023)\n",
    "# Combine dataframes into bigdf of all years\n",
    "bigdf = pd.concat([df2022,df2023])\n",
    "# Change dates into datetime format\n",
    "bigdf['Date Finished'] = pd.to_datetime(bigdf['Date Finished'], format='%m/%d/%Y')\n",
    "# Add a fake date, with the year '2000', that can be used to plot based on day of year\n",
    "bigdf['fakedate'] = list(map(lambda d: d.replace(year=2000), bigdf['Date Finished']))\n",
    "bigdf['month'] = list(map(lambda d: d.strftime('%b'), bigdf['fakedate']))\n",
    "bigdf['monthnum'] = list(map(lambda d: int(d.strftime('%m')), bigdf['fakedate']))\n",
    "bigdf"
   ]
  },
  {
   "cell_type": "code",
   "execution_count": null,
   "id": "bf7d5018",
   "metadata": {},
   "outputs": [],
   "source": [
    "sns.set_theme(style='ticks')\n",
    "sns.histplot(\n",
    "    bigdf,\n",
    "    x='Year Written', hue='Year',\n",
    "    bins=[1890,1900,1910,1920,1930,1940,1950,1960,1970,1980,1990,2000,2010,2020,2030],\n",
    "    multiple='stack',\n",
    "    palette='dark:green',\n",
    "    linewidth=1\n",
    ")\n",
    "plt.show()"
   ]
  },
  {
   "cell_type": "code",
   "execution_count": null,
   "id": "2552e6a2",
   "metadata": {},
   "outputs": [],
   "source": [
    "###\n",
    "# Books per month, year over year\n",
    "###\n",
    "\n",
    "sns.set_theme(style=\"white\", rc={\"axes.facecolor\": (0, 0, 0, 0)})\n",
    "\n",
    "pal = sns.cubehelix_palette(10, rot=-.25, light=.7)\n",
    "g = sns.FacetGrid(bigdf, row='Year', hue='Year', height=2, aspect=5, palette=pal)\n",
    "g.map(sns.histplot, 'monthnum', binwidth=1, binrange=[1,13], clip_on=False, fill=True, legend=False, alpha=1, linewidth=2)\n",
    "g.refline(y=0, linewidth=2, linestyle='-', color=None, clip_on=False)\n",
    "\n",
    "def label (x, color, label):\n",
    "    ax = plt.gca()\n",
    "    ax.text(0, .2, label, fontweight='bold', color=color, ha='left', va='center', transform=ax.transAxes)\n",
    "\n",
    "g.map(label, 'Year')\n",
    "\n",
    "g.figure.subplots_adjust(hspace=-.25)\n",
    "                        \n",
    "g.set_titles('')\n",
    "\n",
    "for ax in g.axes.ravel():\n",
    "    for c in ax.containers:\n",
    "        ax.bar_label(c, padding=1)\n",
    "        \n",
    "g.figure.subplots_adjust(hspace=.5)\n",
    "\n",
    "g.set(xticks=[1,2,3,4,5,6,7,8,9,10,11,12], xticklabels=['Jan','Feb','Mar','Apr','May','Jun','Jul','Aug','Sep','Oct','Nov','Dec'], xlabel='', yticks=[], ylabel='')\n",
    "g.despine(bottom=True, left=True)\n",
    "    \n",
    "plt.show()"
   ]
  },
  {
   "cell_type": "code",
   "execution_count": null,
   "id": "7876c1fd-ccd6-4234-bf48-d80655ad1888",
   "metadata": {},
   "outputs": [],
   "source": [
    "###\n",
    "# Author Gender, Year over Year\n",
    "###\n",
    "\n",
    "g_gender = sns.FacetGrid(bigdf, row='Year', height=2, aspect=5, palette=pal)\n",
    "\n",
    "plt.pie(bigdf,'Gender')"
   ]
  },
  {
   "cell_type": "code",
   "execution_count": null,
   "id": "551821ce",
   "metadata": {},
   "outputs": [],
   "source": [
    "sns.displot(bigdf, x='Date Finished', hue='Genre', kind='kde', multiple='stack')\n",
    "plt.show()"
   ]
  },
  {
   "cell_type": "code",
   "execution_count": null,
   "id": "1f02ba5b-c72c-4c55-b60d-c605fad3bd1f",
   "metadata": {},
   "outputs": [],
   "source": []
  },
  {
   "cell_type": "code",
   "execution_count": null,
   "id": "c8ebf821",
   "metadata": {},
   "outputs": [],
   "source": [
    "bigdf['Date Finished']"
   ]
  },
  {
   "cell_type": "code",
   "execution_count": null,
   "id": "ade33af8",
   "metadata": {},
   "outputs": [],
   "source": [
    "bigdf.loc[bigdf['Genre'] == 'Mystery']['Date Finished']"
   ]
  },
  {
   "cell_type": "code",
   "execution_count": null,
   "id": "a8ecd1f4",
   "metadata": {},
   "outputs": [],
   "source": []
  }
 ],
 "metadata": {
  "kernelspec": {
   "display_name": "Python 3 (ipykernel)",
   "language": "python",
   "name": "python3"
  },
  "language_info": {
   "codemirror_mode": {
    "name": "ipython",
    "version": 3
   },
   "file_extension": ".py",
   "mimetype": "text/x-python",
   "name": "python",
   "nbconvert_exporter": "python",
   "pygments_lexer": "ipython3",
   "version": "3.9.13"
  }
 },
 "nbformat": 4,
 "nbformat_minor": 5
}
